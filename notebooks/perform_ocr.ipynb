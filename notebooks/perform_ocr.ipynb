{
 "cells": [
  {
   "cell_type": "code",
   "execution_count": null,
   "id": "e284eb39",
   "metadata": {},
   "outputs": [],
   "source": [
    "import numpy as np\n",
    "import pandas as pd\n",
    "import scipy\n",
    "\n",
    "from IPython.display import clear_output\n",
    "\n",
    "import sys\n",
    "\n",
    "import matplotlib as mpl\n",
    "import matplotlib.pyplot as plt\n",
    "import seaborn as sns\n",
    "\n",
    "sys.path.append('../general/src/')\n",
    "\n",
    "from sklearn.metrics import auc\n",
    "from scipy.stats import fisher_exact\n",
    "pd.options.display.precision = 3\n",
    "pd.options.display.expand_frame_repr = False\n",
    "pd.options.display.max_columns = 20"
   ]
  },
  {
   "cell_type": "code",
   "execution_count": null,
   "id": "9736521a",
   "metadata": {},
   "outputs": [],
   "source": [
    "import cv2\n",
    "import pytesseract\n",
    "\n",
    "import re\n",
    "from pathlib import Path\n",
    "import requests\n",
    "import random\n",
    "import time\n",
    "import scipy\n",
    "from bs4 import BeautifulSoup\n",
    "\n",
    "pytesseract.pytesseract.tesseract_cmd = r'C:\\Program Files\\Tesseract-OCR\\tesseract.exe'"
   ]
  },
  {
   "cell_type": "code",
   "execution_count": null,
   "id": "9a399e42",
   "metadata": {},
   "outputs": [],
   "source": [
    "concat_array = []\n",
    "files = np.array(os.listdir('../data/'))\n",
    "relevant_files = files[['sem_images_231227_batch_count' in x for x in files]]\n",
    "for file in relevant_files:\n",
    "    concat_array.append(pd.read_csv('../data/'+file))\n",
    "meta_df = pd.concat(concat_array)"
   ]
  },
  {
   "cell_type": "code",
   "execution_count": null,
   "id": "3159ea7d",
   "metadata": {},
   "outputs": [],
   "source": [
    "meta_df.to_csv('../data/sem_images_231227_batch.csv', index=False)"
   ]
  },
  {
   "cell_type": "code",
   "execution_count": null,
   "id": "9fd6a401",
   "metadata": {},
   "outputs": [],
   "source": [
    "remove = []\n",
    "for filename in meta_df['filename'].values:\n",
    "    if 'lrg' in filename:\n",
    "        remove.append(filename.replace('_lrg', ''))"
   ]
  },
  {
   "cell_type": "code",
   "execution_count": null,
   "id": "77d34d0f",
   "metadata": {},
   "outputs": [],
   "source": [
    "meta_df = meta_df[~meta_df['filename'].isin(remove)].copy()"
   ]
  },
  {
   "cell_type": "code",
   "execution_count": null,
   "id": "dce4c229",
   "metadata": {},
   "outputs": [],
   "source": [
    "def get_journal(x):\n",
    "    if 's1369' in x:\n",
    "        return 'mattod'\n",
    "    else:\n",
    "        return x.split('.')[2]"
   ]
  },
  {
   "cell_type": "code",
   "execution_count": null,
   "id": "10746adb",
   "metadata": {},
   "outputs": [],
   "source": [
    "def get_year(x):\n",
    "    if 's1369' in x:\n",
    "        return np.nan\n",
    "    else:\n",
    "        return x.split('.')[3]"
   ]
  },
  {
   "cell_type": "code",
   "execution_count": null,
   "id": "4fdc793c",
   "metadata": {},
   "outputs": [],
   "source": [
    "meta_df['journal'] = meta_df['doi'].apply(lambda x: get_journal(x))\n",
    "meta_df['year'] = meta_df['doi'].apply(lambda x: get_year(x))"
   ]
  },
  {
   "cell_type": "code",
   "execution_count": null,
   "id": "5c486eaf",
   "metadata": {},
   "outputs": [],
   "source": [
    "journal_names = list(meta_df['journal'].value_counts().index)\n",
    "journal_names.reverse() #inplace"
   ]
  },
  {
   "cell_type": "code",
   "execution_count": null,
   "id": "bf58b479",
   "metadata": {},
   "outputs": [],
   "source": [
    "meta_df = meta_df.sort_values(['journal_categorical', 'year']).copy()"
   ]
  },
  {
   "cell_type": "code",
   "execution_count": null,
   "id": "eb5ae9fd",
   "metadata": {},
   "outputs": [],
   "source": [
    "meta_df.groupby('journal').nunique().sort_values('filename')"
   ]
  },
  {
   "cell_type": "code",
   "execution_count": null,
   "id": "c3a15aae",
   "metadata": {},
   "outputs": [],
   "source": [
    "%%time\n",
    "min_confidence = 50\n",
    "\n",
    "for journal_name in ['pone']:\n",
    "    result_df_array = []\n",
    "    meta_df_slice = meta_df[meta_df['journal'] == journal_name].reset_index(drop=True)\n",
    "    for index, row in meta_df_slice.iterrows():\n",
    "\n",
    "        filename = row['filename']\n",
    "        img_path = '../data/img/' + filename\n",
    "        try:\n",
    "            scale = 1.0\n",
    "            img = cv2.imread(img_path)\n",
    "\n",
    "            tesseract_results = pytesseract.image_to_data(img, output_type=pytesseract.Output.DICT)\n",
    "\n",
    "            text_array = np.array(tesseract_results['text'])\\\n",
    "            [np.array([float(x) for x in tesseract_results['conf']]) > min_confidence]\n",
    "            result_df_array.append(pd.DataFrame({'filename':filename, 'text':text_array, 'scale':scale}))\n",
    "\n",
    "            for scale in [1.5, 2.0]:\n",
    "                img2 = cv2.resize(img, (int(img.shape[0]*scale), int(img.shape[1]*scale)))\n",
    "                tesseract_results = pytesseract.image_to_data(img2, output_type=pytesseract.Output.DICT)\n",
    "\n",
    "                text_array = np.array(tesseract_results['text'])\\\n",
    "                [np.array([float(x) for x in tesseract_results['conf']]) > min_confidence]\n",
    "                result_df_array.append(pd.DataFrame({'filename':filename, 'text':text_array, 'scale':scale}))\n",
    "        except:\n",
    "            print('Error processing image.')\n",
    "\n",
    "        if (index % 1000 == 0) & (index != 0):\n",
    "            text_df = pd.concat(result_df_array)\n",
    "            text_df.to_csv('../data/tesseract_ocr_sem_batch_231204_' + journal_name + '_' + str(index) + '.csv', index=False)\n",
    "            result_df_array = []\n",
    "\n",
    "        print(str(index + 1) + ' of ' + str(len(meta_df_slice)) + ' images processed from journal ' + journal_name)\n",
    "        if index % 10 == 0:\n",
    "            clear_output()\n",
    "            \n",
    "    text_df = pd.concat(result_df_array)\n",
    "    text_df.to_csv('../data/tesseract_ocr_sem_batch_231204_' + journal_name + '_' + str(index) + '.csv', index=False)"
   ]
  },
  {
   "cell_type": "code",
   "execution_count": null,
   "id": "aa42a892",
   "metadata": {},
   "outputs": [],
   "source": [
    "journals = ['msea']\n",
    "files = np.array(os.listdir('../data/'))\n",
    "\n",
    "for journal in journals:\n",
    "    print(journal)\n",
    "    concat_array = []\n",
    "    relevant_files = files[['tesseract_ocr_sem_batch_231217_' + journal in x for x in files]]\n",
    "    for file in relevant_files:\n",
    "        concat_array.append(pd.read_csv('../data/'+file))\n",
    "    text_df = pd.concat(concat_array)\n",
    "    text_df.to_csv('../data/tesseract_ocr_sem_batch_231217_' + journal + '.csv', index=False)"
   ]
  }
 ],
 "metadata": {
  "kernelspec": {
   "display_name": "Python 3 (ipykernel)",
   "language": "python",
   "name": "python3"
  },
  "language_info": {
   "codemirror_mode": {
    "name": "ipython",
    "version": 3
   },
   "file_extension": ".py",
   "mimetype": "text/x-python",
   "name": "python",
   "nbconvert_exporter": "python",
   "pygments_lexer": "ipython3",
   "version": "3.9.12"
  }
 },
 "nbformat": 4,
 "nbformat_minor": 5
}
