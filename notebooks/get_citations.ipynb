{
 "cells": [
  {
   "cell_type": "code",
   "execution_count": null,
   "id": "2008ec78",
   "metadata": {},
   "outputs": [],
   "source": [
    "from pybliometrics.scopus import AbstractRetrieval\n",
    "from pybliometrics.scopus.exception import Scopus404Error\n",
    "import pandas as pd \n",
    "from tqdm.auto import tqdm\n",
    "import traceback"
   ]
  },
  {
   "cell_type": "code",
   "execution_count": null,
   "id": "732fa59e",
   "metadata": {},
   "outputs": [],
   "source": [
    "citations_to_find = pd.read_csv(\"../data/240107_combined_sem_labels.csv\")\n",
    "citations_to_find = citations_to_find.drop_duplicates('doi')\n",
    "\n",
    "with open('../data/citations_found_240129.txt', 'w') as f:\n",
    "    \n",
    "    for i, row in tqdm(citations_to_find.iterrows(), total = citations_to_find.shape[0]):\n",
    "        try:\n",
    "            found = AbstractRetrieval(identifier = row['doi'], id_type = 'doi')\n",
    "\n",
    "            if found is not None:\n",
    "                f.write(f\"{row['doi']},{found.citedby_count}\")\n",
    "                f.write(\"\\n\")\n",
    "        \n",
    "        except Scopus404Error:\n",
    "            continue\n",
    "        except:\n",
    "            print(traceback.format_exc())\n",
    "\n",
    "df= pd.read_csv('../data/citations_found_240129.txt', header = None)\n",
    "df.columns = [\"doi\", \"citation_count\"]\n",
    "\n",
    "df.to_parquet(\"citations_found_240129.parquet\")"
   ]
  }
 ],
 "metadata": {
  "kernelspec": {
   "display_name": "Python 3 (ipykernel)",
   "language": "python",
   "name": "python3"
  },
  "language_info": {
   "codemirror_mode": {
    "name": "ipython",
    "version": 3
   },
   "file_extension": ".py",
   "mimetype": "text/x-python",
   "name": "python",
   "nbconvert_exporter": "python",
   "pygments_lexer": "ipython3",
   "version": "3.9.12"
  }
 },
 "nbformat": 4,
 "nbformat_minor": 5
}
